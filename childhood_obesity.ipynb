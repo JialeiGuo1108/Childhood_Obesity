{
 "cells": [
  {
   "cell_type": "markdown",
   "metadata": {
    "editable": true,
    "slideshow": {
     "slide_type": ""
    },
    "tags": []
   },
   "source": [
    "# The Influence of Urban Environmental and Socioeconomic Variables on Childhood Obesity Prevalence: A Case Study of London"
   ]
  },
  {
   "cell_type": "markdown",
   "metadata": {
    "editable": true,
    "slideshow": {
     "slide_type": ""
    },
    "tags": []
   },
   "source": [
    "------\n",
    "- Code is hosted [here](https://github.com/JialeiGuo1108/Childhood_Obesity)\n",
    "\n",
    "- Data is available [here](https://github.com/JialeiGuo1108/Childhood_Obesity/tree/main/data)\n",
    "\n",
    "- Number of words: ***\n",
    "\n",
    "- Runtime: *** hours (*Memory 10 GB, CPU Intel i7-10700 CPU @2.90GHz*)\n",
    "\n",
    "- Coding environment: SDS Docker\n",
    "\n",
    "- License: this notebook is made available under the [Creative Commons Attribution license](https://creativecommons.org/licenses/by/4.0/) (or other license that you like).\n",
    "--------\n"
   ]
  },
  {
   "cell_type": "markdown",
   "metadata": {},
   "source": [
    "## Table of contents\n",
    "\n",
    "1. [Introduction](#Introduction)\n",
    "\n",
    "1. [Research questions](#Research-questions)\n",
    "\n",
    "1. [Data](#Data)\n",
    "\n",
    "1. [Methodology](#Methodology)\n",
    "\n",
    "1. [Results and discussion](#Results-and-discussion)\n",
    "\n",
    "1. [Conclusion](#Conclusion)\n",
    "\n",
    "1. [References](#References)"
   ]
  },
  {
   "cell_type": "markdown",
   "metadata": {},
   "source": [
    "<font color=#6495ED>请使用Python笔记本模板Template_ submission_CASA0006.ipynb来格式化您的提交，并在提交前删除指令句。\n",
    "\n",
    "以下部分应包含在本笔记本中：\n",
    "\n",
    "• 引言\n",
    "\n",
    "• 研究问题 • 数据。\n",
    "\n",
    "• 方法论\n",
    "\n",
    "• 结果与讨论\n",
    "\n",
    "• 结论\n",
    "\n",
    "• 参考文献\n",
    "\n",
    "在引言中，您需要包括至少三个相关研究。在“研究问题”中，您需要明确陈述以问号结尾的问题。例如，“Covid-19死亡率与英国当地贫困之间的关系是什么？”或“是否可以使用英国的社会人口变量预测Covid-19死亡率？”\n",
    "\n",
    "笔记本需要一个标题。"
   ]
  },
  {
   "cell_type": "markdown",
   "metadata": {},
   "source": [
    "## Introduction\n",
    "\n",
    "[[ go back to the top ]](#Table-of-contents)"
   ]
  },
  {
   "cell_type": "markdown",
   "metadata": {},
   "source": [
    "Childhood obesity is a growing public health concern, with environmental factors such as green space accessibility and fast-food outlet density potentially playing significant roles.\n",
    "\n",
    "Childhood obesity is a public health concern.\n",
    "\n",
    "Obesity for children and adolescents was defined as BMI for age at or above the 95th percentile based on the Centers for Disease Control and Prevention growth chart."
   ]
  },
  {
   "cell_type": "markdown",
   "metadata": {},
   "source": [
    "## Research questions\n",
    "\n",
    "[[ go back to the top ]](#Table-of-contents)"
   ]
  },
  {
   "cell_type": "markdown",
   "metadata": {},
   "source": [
    "- RQ1 | How do environmental factors—specifically green space coverage and fast-food outlet density—collectively influence childhood obesity rates across London wards?\n",
    "- RQ2 | Which environmental factor (green space or fast-food density) has a stronger relative impact on obesity rates?"
   ]
  },
  {
   "cell_type": "markdown",
   "metadata": {},
   "source": [
    "## Data\n",
    "\n",
    "[[ go back to the top ]](#Table-of-contents)\n",
    "\n",
    "### Data sources\n",
    "\n",
    "The basic information about the resolution, temporal domain, type, and source of the data is shown in Table 1. The detailed description of the data is as follows."
   ]
  },
  {
   "cell_type": "markdown",
   "metadata": {},
   "source": [
    "| Name                            | Temporal domain | Type | Source |\n",
    "|:---------------------------------|:------------------|:------|:--------|\n",
    "|Reception prevalence of obesity (including severe obesity), 3 years data combined(Indicator_ID:93105) | 2021/22-2023/24         | csv     | https://fingertips.phe.org.uk/profile/national-child-measurement-programme/data#page/6/gid/1938133288/pat/401/par/E09000019/ati/3/are/E02000573/iid/93105/age/200/sex/4/cat/-1/ctp/-1/yrr/3/cid/1/tbm/1/page-options/ovw-do-0_car-do-0 |\n",
    "| Fast food outlets by ward       | 2024             | ods  |https://assets.publishing.service.gov.uk/media/67a0e46682f8431ebeb047ca/Fast_food_supporting_information.ods |\n",
    "| Green Cover                     | 2024             | elsx | https://data.london.gov.uk/download/green-cover-2024/2a993c9b-20c5-43c6-871b-ce5e5aa5376a/2024_%20green_cover_borough_ward_stats.xlsx |\n",
    "| London Wards                    | 2018             | shp  | https://data.london.gov.uk/download/statistical-gis-boundary-files-london/08d31995-dd27-423c-a987-57fe8e952990/London-wards-2018.zip |"
   ]
  },
  {
   "cell_type": "markdown",
   "metadata": {},
   "source": [
    "<font color=#DE3163>补充Description\n",
    "\n",
    "- 通过fingertips导入childhood obesity相关数据\n",
    "  \n",
    "由于London DataStore里面关于child obesity的MSoa和ward层面的数据只有到2011/12 to 2013/14，所以本次研究数据是通过[Fingertips的API](https://fingertips.phe.org.uk/api#/Data)获取的2021/22-2023/24年的4-5岁的child obesity数据（ward层面）https://fingertips.phe.org.uk/profile/national-child-measurement-programme/data#page/6/gid/1938133288/pat/159/par/K02000001/ati/15/are/E92000001/yrr/1/cid/4/tbm/1 defination\n",
    "https://fingertips.phe.org.uk/api/all_data/csv/for_one_indicator?indicator_id=93105,\n",
    "由于API接口不稳定，所以接下去使用的child obesity数据皆为下载后存在repo内的数据"
   ]
  },
  {
   "cell_type": "markdown",
   "metadata": {},
   "source": [
    "### Data loading and exploration\n",
    "\n",
    "In this article, used Python libraries are listed as follows:"
   ]
  },
  {
   "cell_type": "code",
   "execution_count": 1,
   "metadata": {},
   "outputs": [],
   "source": [
    "# for recording runtime\n",
    "import time\n",
    "import psutil\n",
    "import platform\n",
    "import subprocess\n",
    "\n",
    "start_time = time.time()"
   ]
  },
  {
   "cell_type": "code",
   "execution_count": 2,
   "metadata": {},
   "outputs": [],
   "source": [
    "import pandas as pd\n",
    "import numpy as np\n",
    "import geopandas as gpd\n",
    "import matplotlib.pyplot as plt\n",
    "\n",
    "import sklearn\n",
    "from sklearn.model_selection import train_test_split, cross_val_score\n",
    "from sklearn.ensemble import RandomForestRegressor\n",
    "from sklearn.preprocessing import StandardScaler\n",
    "from sklearn.metrics import mean_squared_error, r2_score\n",
    "\n",
    "# feature importance（PFI）\n",
    "import rfpimp\n",
    "\n",
    "import seaborn as sns\n",
    "\n",
    "# GBDT\n",
    "import xgboost\n",
    "from xgboost import XGBRegressor\n",
    "\n",
    "pd.set_option('display.max_rows', 300) # specifies number of rows to show\n",
    "pd.options.display.float_format = '{:40,.4f}'.format # specifies default number format to 4 decimal places\n",
    "plt.style.use('ggplot') # specifies that graphs should use ggplot styling\n",
    "%matplotlib inline"
   ]
  },
  {
   "cell_type": "code",
   "execution_count": 3,
   "metadata": {
    "editable": true,
    "slideshow": {
     "slide_type": ""
    },
    "tags": []
   },
   "outputs": [
    {
     "name": "stdout",
     "output_type": "stream",
     "text": [
      "xgboost version:2.1.1\n",
      "sklearn version:1.5.2\n"
     ]
    }
   ],
   "source": [
    "# check the library version before we start\n",
    "print(\"xgboost version:{}\".format(xgboost.__version__))\n",
    "print(\"sklearn version:{}\".format(sklearn.__version__))"
   ]
  },
  {
   "cell_type": "markdown",
   "metadata": {},
   "source": []
  },
  {
   "cell_type": "code",
   "execution_count": 4,
   "metadata": {},
   "outputs": [
    {
     "name": "stderr",
     "output_type": "stream",
     "text": [
      "/tmp/ipykernel_97082/3864357092.py:3: DtypeWarning: Columns (9,10,20) have mixed types. Specify dtype option on import or set low_memory=False.\n",
      "  child_obesity = pd.read_csv(url_child_obesity)\n"
     ]
    }
   ],
   "source": [
    "# import the childhood obesity dataset\n",
    "url_child_obesity = \"https://raw.githubusercontent.com/JialeiGuo1108/Childhood_Obesity/refs/heads/main/data/child_obesity.csv\"\n",
    "child_obesity = pd.read_csv(url_child_obesity)\n",
    "\n",
    "# modify column names\n",
    "child_obesity.columns = child_obesity.columns.str.replace(' ', '_').str.lower()"
   ]
  },
  {
   "cell_type": "code",
   "execution_count": 5,
   "metadata": {},
   "outputs": [
    {
     "name": "stdout",
     "output_type": "stream",
     "text": [
      "   indicator_id                                     indicator_name  \\\n",
      "0         93105  Reception prevalence of obesity (including sev...   \n",
      "1         93105  Reception prevalence of obesity (including sev...   \n",
      "2         93105  Reception prevalence of obesity (including sev...   \n",
      "3         93105  Reception prevalence of obesity (including sev...   \n",
      "4         93105  Reception prevalence of obesity (including sev...   \n",
      "\n",
      "  parent_code parent_name  area_code            area_name area_type      sex  \\\n",
      "0         NaN         NaN  E92000001              England   England  Persons   \n",
      "1   E92000001     England  E02000001       City of London      MSOA  Persons   \n",
      "2   E92000001     England  E02000002           Marks Gate      MSOA  Persons   \n",
      "3   E92000001     England  E02000003  Chadwell Heath East      MSOA  Persons   \n",
      "4   E92000001     England  E02000004         Eastbrookend      MSOA  Persons   \n",
      "\n",
      "       age category_type  ...                                    count  \\\n",
      "0  4-5 yrs           NaN  ...                             151,408.0000   \n",
      "1  4-5 yrs           NaN  ...                                      NaN   \n",
      "2  4-5 yrs           NaN  ...                                  45.0000   \n",
      "3  4-5 yrs           NaN  ...                                  40.0000   \n",
      "4  4-5 yrs           NaN  ...                                  30.0000   \n",
      "\n",
      "                               denominator  \\\n",
      "0                           1,573,889.0000   \n",
      "1                                      NaN   \n",
      "2                                 325.0000   \n",
      "3                                 385.0000   \n",
      "4                                 180.0000   \n",
      "\n",
      "                                        value_note  recent_trend  \\\n",
      "0                                              NaN           NaN   \n",
      "1  Value suppressed for disclosure control reasons           NaN   \n",
      "2                                              NaN           NaN   \n",
      "3                                              NaN           NaN   \n",
      "4                                              NaN           NaN   \n",
      "\n",
      "   compared_to_england_value_or_percentiles  column_not_used  \\\n",
      "0                              Not compared     Not compared   \n",
      "1                              Not compared     Not compared   \n",
      "2                                     Worse     Not compared   \n",
      "3                                   Similar     Not compared   \n",
      "4                                     Worse     Not compared   \n",
      "\n",
      "   time_period_sortable  new_data  compared_to_goal time_period_range  \n",
      "0              20080000       NaN               NaN                3y  \n",
      "1              20080000       NaN               NaN                3y  \n",
      "2              20080000       NaN               NaN                3y  \n",
      "3              20080000       NaN               NaN                3y  \n",
      "4              20080000       NaN               NaN                3y  \n",
      "\n",
      "[5 rows x 27 columns]\n"
     ]
    }
   ],
   "source": [
    "# show the first few rows of the data\n",
    "print(child_obesity.head())"
   ]
  },
  {
   "cell_type": "code",
   "execution_count": 6,
   "metadata": {},
   "outputs": [
    {
     "name": "stdout",
     "output_type": "stream",
     "text": [
      "        indicator_id                                     indicator_name  \\\n",
      "219753         93105  Reception prevalence of obesity (including sev...   \n",
      "219754         93105  Reception prevalence of obesity (including sev...   \n",
      "219755         93105  Reception prevalence of obesity (including sev...   \n",
      "\n",
      "       parent_code parent_name  area_code  area_name               area_type  \\\n",
      "219753   E92000001     England  E05000026      Abbey  Electoral Wards (2021)   \n",
      "219754   E92000001     England  E05000027     Alibon  Electoral Wards (2021)   \n",
      "219755   E92000001     England  E05000028  Becontree  Electoral Wards (2021)   \n",
      "\n",
      "            sex      age category_type  ...  \\\n",
      "219753  Persons  4-5 yrs           NaN  ...   \n",
      "219754  Persons  4-5 yrs           NaN  ...   \n",
      "219755  Persons  4-5 yrs           NaN  ...   \n",
      "\n",
      "                                          count  \\\n",
      "219753                                  95.0000   \n",
      "219754                                  70.0000   \n",
      "219755                                 105.0000   \n",
      "\n",
      "                                    denominator  value_note  \\\n",
      "219753                                 730.0000         NaN   \n",
      "219754                                 490.0000         NaN   \n",
      "219755                                 705.0000         NaN   \n",
      "\n",
      "                recent_trend  compared_to_england_value_or_percentiles  \\\n",
      "219753  Cannot be calculated                                     Worse   \n",
      "219754  Cannot be calculated                                     Worse   \n",
      "219755  Cannot be calculated                                     Worse   \n",
      "\n",
      "        column_not_used  time_period_sortable  new_data  compared_to_goal  \\\n",
      "219753     Not compared              20210000       NaN               NaN   \n",
      "219754     Not compared              20210000       NaN               NaN   \n",
      "219755     Not compared              20210000       NaN               NaN   \n",
      "\n",
      "       time_period_range  \n",
      "219753                3y  \n",
      "219754                3y  \n",
      "219755                3y  \n",
      "\n",
      "[3 rows x 27 columns]\n"
     ]
    }
   ],
   "source": [
    "# screen out the data needed\n",
    "# 1. area_type == \"Electoral Wards (2021)\"\n",
    "# 2. time_period == \"2021/22 - 23/24\"\n",
    "child_obesity_2124 = child_obesity[\n",
    "    (child_obesity['area_type'] == 'Electoral Wards (2021)') & \n",
    "    (child_obesity['time_period'] == '2021/22 - 23/24')\n",
    "]\n",
    "\n",
    "\n",
    "print(child_obesity_2124.head(3))\n",
    "# filtered data is stored in the repo（https://raw.githubusercontent.com/JialeiGuo1108/Childhood_Obesity/refs/heads/main/data/filtered_child_obesity.csv）"
   ]
  },
  {
   "cell_type": "code",
   "execution_count": null,
   "metadata": {},
   "outputs": [],
   "source": []
  },
  {
   "cell_type": "code",
   "execution_count": 7,
   "metadata": {},
   "outputs": [
    {
     "data": {
      "text/html": [
       "<div>\n",
       "<style scoped>\n",
       "    .dataframe tbody tr th:only-of-type {\n",
       "        vertical-align: middle;\n",
       "    }\n",
       "\n",
       "    .dataframe tbody tr th {\n",
       "        vertical-align: top;\n",
       "    }\n",
       "\n",
       "    .dataframe thead th {\n",
       "        text-align: right;\n",
       "    }\n",
       "</style>\n",
       "<table border=\"1\" class=\"dataframe\">\n",
       "  <thead>\n",
       "    <tr style=\"text-align: right;\">\n",
       "      <th></th>\n",
       "      <th>ward</th>\n",
       "      <th>ward_code</th>\n",
       "      <th>ward_area_ha</th>\n",
       "      <th>ward_green_sum</th>\n",
       "      <th>percentage</th>\n",
       "      <th>see Methodology Report for margins of error - https://data.london.gov.uk/dataset/green-cover-2024</th>\n",
       "    </tr>\n",
       "  </thead>\n",
       "  <tbody>\n",
       "    <tr>\n",
       "      <th>0</th>\n",
       "      <td>Harold Wood</td>\n",
       "      <td>E05013973</td>\n",
       "      <td>907.6860</td>\n",
       "      <td>642.7571</td>\n",
       "      <td>0.7081</td>\n",
       "      <td>NaN</td>\n",
       "    </tr>\n",
       "    <tr>\n",
       "      <th>1</th>\n",
       "      <td>Bromley Town</td>\n",
       "      <td>E05013991</td>\n",
       "      <td>334.2670</td>\n",
       "      <td>160.4244</td>\n",
       "      <td>0.4799</td>\n",
       "      <td>NaN</td>\n",
       "    </tr>\n",
       "    <tr>\n",
       "      <th>2</th>\n",
       "      <td>Mayfield</td>\n",
       "      <td>E05011248</td>\n",
       "      <td>186.2176</td>\n",
       "      <td>60.0281</td>\n",
       "      <td>0.3224</td>\n",
       "      <td>NaN</td>\n",
       "    </tr>\n",
       "  </tbody>\n",
       "</table>\n",
       "</div>"
      ],
      "text/plain": [
       "           ward  ward_code                             ward_area_ha  \\\n",
       "0   Harold Wood  E05013973                                 907.6860   \n",
       "1  Bromley Town  E05013991                                 334.2670   \n",
       "2      Mayfield  E05011248                                 186.2176   \n",
       "\n",
       "                            ward_green_sum  \\\n",
       "0                                 642.7571   \n",
       "1                                 160.4244   \n",
       "2                                  60.0281   \n",
       "\n",
       "                                percentage  \\\n",
       "0                                   0.7081   \n",
       "1                                   0.4799   \n",
       "2                                   0.3224   \n",
       "\n",
       "   see Methodology Report for margins of error - https://data.london.gov.uk/dataset/green-cover-2024  \n",
       "0                                                NaN                                                  \n",
       "1                                                NaN                                                  \n",
       "2                                                NaN                                                  "
      ]
     },
     "execution_count": 7,
     "metadata": {},
     "output_type": "execute_result"
    }
   ],
   "source": [
    "green_cover = pd.read_excel('https://github.com/JialeiGuo1108/Childhood_Obesity/raw/refs/heads/main/data/2024_%20green_cover_borough_ward_stats.xlsx',sheet_name='Ward')\n",
    "green_cover.head(3)"
   ]
  },
  {
   "cell_type": "code",
   "execution_count": null,
   "metadata": {},
   "outputs": [],
   "source": []
  },
  {
   "cell_type": "code",
   "execution_count": 8,
   "metadata": {},
   "outputs": [],
   "source": [
    "#if the data cannot be read, run the next line of code\n",
    "#!pip install odfpy\n",
    "fast_food=pd.read_excel('https://github.com/JialeiGuo1108/Childhood_Obesity/raw/refs/heads/main/data/Fast_food_supporting_information.ods', \n",
    "                        sheet_name='Table1', \n",
    "                        engine='odf', \n",
    "                        skiprows=3)"
   ]
  },
  {
   "cell_type": "code",
   "execution_count": 9,
   "metadata": {},
   "outputs": [
    {
     "data": {
      "text/html": [
       "<div>\n",
       "<style scoped>\n",
       "    .dataframe tbody tr th:only-of-type {\n",
       "        vertical-align: middle;\n",
       "    }\n",
       "\n",
       "    .dataframe tbody tr th {\n",
       "        vertical-align: top;\n",
       "    }\n",
       "\n",
       "    .dataframe thead th {\n",
       "        text-align: right;\n",
       "    }\n",
       "</style>\n",
       "<table border=\"1\" class=\"dataframe\">\n",
       "  <thead>\n",
       "    <tr style=\"text-align: right;\">\n",
       "      <th></th>\n",
       "      <th>local_authority_code</th>\n",
       "      <th>local_authority_name</th>\n",
       "      <th>ward_code</th>\n",
       "      <th>ward_name</th>\n",
       "      <th>count_of_outlets</th>\n",
       "    </tr>\n",
       "  </thead>\n",
       "  <tbody>\n",
       "    <tr>\n",
       "      <th>0</th>\n",
       "      <td>E06000001</td>\n",
       "      <td>Hartlepool</td>\n",
       "      <td>E05013038</td>\n",
       "      <td>Burn Valley</td>\n",
       "      <td>21</td>\n",
       "    </tr>\n",
       "    <tr>\n",
       "      <th>1</th>\n",
       "      <td>E06000001</td>\n",
       "      <td>Hartlepool</td>\n",
       "      <td>E05013039</td>\n",
       "      <td>De Bruce</td>\n",
       "      <td>8</td>\n",
       "    </tr>\n",
       "    <tr>\n",
       "      <th>2</th>\n",
       "      <td>E06000001</td>\n",
       "      <td>Hartlepool</td>\n",
       "      <td>E05013040</td>\n",
       "      <td>Fens &amp; Greatham</td>\n",
       "      <td>7</td>\n",
       "    </tr>\n",
       "  </tbody>\n",
       "</table>\n",
       "</div>"
      ],
      "text/plain": [
       "  local_authority_code local_authority_name  ward_code        ward_name  \\\n",
       "0            E06000001           Hartlepool  E05013038      Burn Valley   \n",
       "1            E06000001           Hartlepool  E05013039         De Bruce   \n",
       "2            E06000001           Hartlepool  E05013040  Fens & Greatham   \n",
       "\n",
       "   count_of_outlets  \n",
       "0                21  \n",
       "1                 8  \n",
       "2                 7  "
      ]
     },
     "execution_count": 9,
     "metadata": {},
     "output_type": "execute_result"
    }
   ],
   "source": [
    "# modify column names\n",
    "fast_food.columns = fast_food.columns.str.replace(' ', '_').str.lower()\n",
    "fast_food.head(3)"
   ]
  },
  {
   "cell_type": "code",
   "execution_count": 10,
   "metadata": {},
   "outputs": [],
   "source": [
    "usual_residents=pd.read_excel('https://github.com/JialeiGuo1108/Childhood_Obesity/raw/refs/heads/main/data/usual_residents_london_2021.xlsx', \n",
    "                        sheet_name='2021')\n",
    "# modify column names\n",
    "usual_residents.columns = usual_residents.columns.str.replace(' ', '_').str.lower()"
   ]
  },
  {
   "cell_type": "code",
   "execution_count": 42,
   "metadata": {},
   "outputs": [
    {
     "data": {
      "text/html": [
       "<div>\n",
       "<style scoped>\n",
       "    .dataframe tbody tr th:only-of-type {\n",
       "        vertical-align: middle;\n",
       "    }\n",
       "\n",
       "    .dataframe tbody tr th {\n",
       "        vertical-align: top;\n",
       "    }\n",
       "\n",
       "    .dataframe thead th {\n",
       "        text-align: right;\n",
       "    }\n",
       "</style>\n",
       "<table border=\"1\" class=\"dataframe\">\n",
       "  <thead>\n",
       "    <tr style=\"text-align: right;\">\n",
       "      <th></th>\n",
       "      <th>ward_code</th>\n",
       "      <th>ward_name</th>\n",
       "      <th>local_authority_code</th>\n",
       "      <th>local_authority_name</th>\n",
       "      <th>all_usual_residents</th>\n",
       "      <th>females</th>\n",
       "      <th>males</th>\n",
       "      <th>lives_in_a_household</th>\n",
       "      <th>lives_in_a_communal_establishment</th>\n",
       "      <th>area;_hectares</th>\n",
       "      <th>density;_persons_per_hectare</th>\n",
       "    </tr>\n",
       "  </thead>\n",
       "  <tbody>\n",
       "    <tr>\n",
       "      <th>0</th>\n",
       "      <td>E09000001</td>\n",
       "      <td>City of London (aggregated)</td>\n",
       "      <td>E09000001</td>\n",
       "      <td>City of London</td>\n",
       "      <td>8579</td>\n",
       "      <td>3862</td>\n",
       "      <td>4717</td>\n",
       "      <td>8379</td>\n",
       "      <td>210</td>\n",
       "      <td>NaN</td>\n",
       "      <td>NaN</td>\n",
       "    </tr>\n",
       "    <tr>\n",
       "      <th>1</th>\n",
       "      <td>E05014053</td>\n",
       "      <td>Abbey</td>\n",
       "      <td>E09000002</td>\n",
       "      <td>Barking and Dagenham</td>\n",
       "      <td>3965</td>\n",
       "      <td>1945</td>\n",
       "      <td>2020</td>\n",
       "      <td>3959</td>\n",
       "      <td>0</td>\n",
       "      <td>NaN</td>\n",
       "      <td>NaN</td>\n",
       "    </tr>\n",
       "    <tr>\n",
       "      <th>2</th>\n",
       "      <td>E05014054</td>\n",
       "      <td>Alibon</td>\n",
       "      <td>E09000002</td>\n",
       "      <td>Barking and Dagenham</td>\n",
       "      <td>9890</td>\n",
       "      <td>5130</td>\n",
       "      <td>4760</td>\n",
       "      <td>9809</td>\n",
       "      <td>70</td>\n",
       "      <td>NaN</td>\n",
       "      <td>NaN</td>\n",
       "    </tr>\n",
       "  </tbody>\n",
       "</table>\n",
       "</div>"
      ],
      "text/plain": [
       "   ward_code                    ward_name local_authority_code  \\\n",
       "0  E09000001  City of London (aggregated)            E09000001   \n",
       "1  E05014053                        Abbey            E09000002   \n",
       "2  E05014054                       Alibon            E09000002   \n",
       "\n",
       "   local_authority_name  all_usual_residents  females  males  \\\n",
       "0        City of London                 8579     3862   4717   \n",
       "1  Barking and Dagenham                 3965     1945   2020   \n",
       "2  Barking and Dagenham                 9890     5130   4760   \n",
       "\n",
       "   lives_in_a_household  lives_in_a_communal_establishment  area;_hectares  \\\n",
       "0                  8379                                210             NaN   \n",
       "1                  3959                                  0             NaN   \n",
       "2                  9809                                 70             NaN   \n",
       "\n",
       "   density;_persons_per_hectare  \n",
       "0                           NaN  \n",
       "1                           NaN  \n",
       "2                           NaN  "
      ]
     },
     "execution_count": 42,
     "metadata": {},
     "output_type": "execute_result"
    }
   ],
   "source": [
    "usual_residents.head(3)"
   ]
  },
  {
   "cell_type": "code",
   "execution_count": null,
   "metadata": {},
   "outputs": [],
   "source": []
  },
  {
   "cell_type": "code",
   "execution_count": 11,
   "metadata": {},
   "outputs": [],
   "source": [
    "household_deprivation=pd.read_excel('https://github.com/JialeiGuo1108/Childhood_Obesity/raw/refs/heads/main/data/Household_deprivation.xlsx', \n",
    "                        sheet_name='2021')\n",
    "# modify column names\n",
    "household_deprivation.columns = household_deprivation.columns.str.replace(' ', '_').str.lower()"
   ]
  },
  {
   "cell_type": "code",
   "execution_count": 12,
   "metadata": {},
   "outputs": [
    {
     "data": {
      "text/html": [
       "<div>\n",
       "<style scoped>\n",
       "    .dataframe tbody tr th:only-of-type {\n",
       "        vertical-align: middle;\n",
       "    }\n",
       "\n",
       "    .dataframe tbody tr th {\n",
       "        vertical-align: top;\n",
       "    }\n",
       "\n",
       "    .dataframe thead th {\n",
       "        text-align: right;\n",
       "    }\n",
       "</style>\n",
       "<table border=\"1\" class=\"dataframe\">\n",
       "  <thead>\n",
       "    <tr style=\"text-align: right;\">\n",
       "      <th></th>\n",
       "      <th>ward_code</th>\n",
       "      <th>ward_name</th>\n",
       "      <th>local_authority_code</th>\n",
       "      <th>local_authority_name</th>\n",
       "      <th>all_households</th>\n",
       "      <th>deprived_in:_no_dimensions</th>\n",
       "      <th>1_dimension</th>\n",
       "      <th>2_dimensions</th>\n",
       "      <th>3_dimensions</th>\n",
       "      <th>4_dimensions</th>\n",
       "    </tr>\n",
       "  </thead>\n",
       "  <tbody>\n",
       "    <tr>\n",
       "      <th>0</th>\n",
       "      <td>E09000001</td>\n",
       "      <td>City of London (aggregated)</td>\n",
       "      <td>E09000001</td>\n",
       "      <td>City of London</td>\n",
       "      <td>4909</td>\n",
       "      <td>2937</td>\n",
       "      <td>1547</td>\n",
       "      <td>343</td>\n",
       "      <td>75</td>\n",
       "      <td>7</td>\n",
       "    </tr>\n",
       "    <tr>\n",
       "      <th>1</th>\n",
       "      <td>E05014053</td>\n",
       "      <td>Abbey</td>\n",
       "      <td>E09000002</td>\n",
       "      <td>Barking and Dagenham</td>\n",
       "      <td>1460</td>\n",
       "      <td>604</td>\n",
       "      <td>568</td>\n",
       "      <td>221</td>\n",
       "      <td>62</td>\n",
       "      <td>5</td>\n",
       "    </tr>\n",
       "    <tr>\n",
       "      <th>2</th>\n",
       "      <td>E05014054</td>\n",
       "      <td>Alibon</td>\n",
       "      <td>E09000002</td>\n",
       "      <td>Barking and Dagenham</td>\n",
       "      <td>3344</td>\n",
       "      <td>1302</td>\n",
       "      <td>1246</td>\n",
       "      <td>612</td>\n",
       "      <td>173</td>\n",
       "      <td>11</td>\n",
       "    </tr>\n",
       "  </tbody>\n",
       "</table>\n",
       "</div>"
      ],
      "text/plain": [
       "   ward_code                    ward_name local_authority_code  \\\n",
       "0  E09000001  City of London (aggregated)            E09000001   \n",
       "1  E05014053                        Abbey            E09000002   \n",
       "2  E05014054                       Alibon            E09000002   \n",
       "\n",
       "   local_authority_name  all_households  deprived_in:_no_dimensions  \\\n",
       "0        City of London            4909                        2937   \n",
       "1  Barking and Dagenham            1460                         604   \n",
       "2  Barking and Dagenham            3344                        1302   \n",
       "\n",
       "   1_dimension  2_dimensions  3_dimensions  4_dimensions  \n",
       "0         1547           343            75             7  \n",
       "1          568           221            62             5  \n",
       "2         1246           612           173            11  "
      ]
     },
     "execution_count": 12,
     "metadata": {},
     "output_type": "execute_result"
    }
   ],
   "source": [
    "household_deprivation.head(3)"
   ]
  },
  {
   "cell_type": "markdown",
   "metadata": {
    "editable": true,
    "slideshow": {
     "slide_type": ""
    },
    "tags": []
   },
   "source": [
    "## Methodology\n",
    "\n",
    "[[ go back to the top ]](#Table-of-contents)"
   ]
  },
  {
   "cell_type": "markdown",
   "metadata": {},
   "source": [
    "### Study design\n",
    "This study employs a cross-sectional observational design to analyze the association between urban environmental variables (green space coverage, fast-food outlet density), socioeconomic factors (household deprivation), and childhood obesity prevalence across London wards. I combine geospatial data aggregation with machine learning techniques to quantify predictive relationships.\n",
    "\n",
    "The following flowchart illustrates the steps needed to produce the results using the machine learning."
   ]
  },
  {
   "cell_type": "markdown",
   "metadata": {},
   "source": [
    "![Figure 1: Overall Process](https://github.com/JialeiGuo1108/Childhood_Obesity/blob/main/flowchart.png?raw=true)"
   ]
  },
  {
   "cell_type": "markdown",
   "metadata": {},
   "source": [
    "### Variables\n",
    "| Varibles                               | Description |\n",
    "|:----------------------------------------|:------------------|\n",
    "|Childhood obesity prevalence (%) at ward level | The proportion of children aged 4 to 5 years classified as living with obesity.  For population monitoring purposes, a child’s body mass index (BMI) is classed as overweight or obese where it is on or above the 85th centile or 95th centile, respectively, based on the British 1990 (UK90) growth reference data.        |\n",
    "|Fast food outlets per 100,000 population       | The number of fast food outlets is divided by the population of usual resident in the ward and multiplied by 100,000.            |\n",
    "|Green space coverage(%)                    | The total number of green cover is divided by the area of the ward.        |\n",
    "|Household deprivation index (%)                   | The number of households that are deprived in two dimensions is divided by the number of all households.    |"
   ]
  },
  {
   "cell_type": "markdown",
   "metadata": {},
   "source": [
    "### Data Processing\n",
    "针对变量`fast_food`, `child_obesity`提取伦敦ward范围\n",
    "\n",
    "`green_cover`,`usual_resident` and `household_deprivation`内的数据并清理不需要的列"
   ]
  },
  {
   "cell_type": "code",
   "execution_count": 14,
   "metadata": {},
   "outputs": [
    {
     "name": "stdout",
     "output_type": "stream",
     "text": [
      "Mapping table columns: ['WD21CD', 'WD22CD', 'distance']\n",
      "First few rows of the mapping table:       WD21CD     WD22CD                                 distance\n",
      "0  E05000026  E05014066                                   0.0026\n",
      "1  E05000027  E05014054                                   0.0119\n",
      "2  E05000028  E05014057                                   0.0021\n",
      "3  E05000029  E05014058                                   0.0000\n",
      "4  E05000030  E05014059                                   0.0018\n"
     ]
    }
   ],
   "source": [
    "# WD21CD to WD22CD\n",
    "mapping_df = pd.read_csv('ward_code_spatial_mapping.csv')\n",
    "\n",
    "# check the structure of the mapping table\n",
    "print(\"Mapping table columns:\", mapping_df.columns.tolist())\n",
    "print(\"First few rows of the mapping table:\", mapping_df.head())"
   ]
  },
  {
   "cell_type": "code",
   "execution_count": 15,
   "metadata": {},
   "outputs": [],
   "source": [
    "# 第三步：将映射应用到child_obesity数据集\n",
    "child_obesity_2124_mapped = pd.merge(\n",
    "    child_obesity_2124,\n",
    "    mapping_df[['WD21CD', 'WD22CD']],\n",
    "    left_on='area_code',  # child_obesity中的WD21CD列\n",
    "    right_on='WD21CD',\n",
    "    how='left'\n",
    ")"
   ]
  },
  {
   "cell_type": "code",
   "execution_count": 16,
   "metadata": {},
   "outputs": [
    {
     "name": "stdout",
     "output_type": "stream",
     "text": [
      "在child_obesity数据集中，7007/7007条记录被成功匹配到2022选区代码\n"
     ]
    }
   ],
   "source": [
    "# 检查映射结果\n",
    "mapped_count = child_obesity_2124_mapped['WD22CD'].notna().sum()\n",
    "total_count = len(child_obesity_2124_mapped)\n",
    "print(f\"在child_obesity数据集中，{mapped_count}/{total_count}条记录被成功匹配到2022选区代码\")"
   ]
  },
  {
   "cell_type": "code",
   "execution_count": 17,
   "metadata": {},
   "outputs": [
    {
     "data": {
      "text/html": [
       "<div>\n",
       "<style scoped>\n",
       "    .dataframe tbody tr th:only-of-type {\n",
       "        vertical-align: middle;\n",
       "    }\n",
       "\n",
       "    .dataframe tbody tr th {\n",
       "        vertical-align: top;\n",
       "    }\n",
       "\n",
       "    .dataframe thead th {\n",
       "        text-align: right;\n",
       "    }\n",
       "</style>\n",
       "<table border=\"1\" class=\"dataframe\">\n",
       "  <thead>\n",
       "    <tr style=\"text-align: right;\">\n",
       "      <th></th>\n",
       "      <th>indicator_id</th>\n",
       "      <th>indicator_name</th>\n",
       "      <th>parent_code</th>\n",
       "      <th>parent_name</th>\n",
       "      <th>area_code</th>\n",
       "      <th>area_name</th>\n",
       "      <th>area_type</th>\n",
       "      <th>sex</th>\n",
       "      <th>age</th>\n",
       "      <th>category_type</th>\n",
       "      <th>...</th>\n",
       "      <th>value_note</th>\n",
       "      <th>recent_trend</th>\n",
       "      <th>compared_to_england_value_or_percentiles</th>\n",
       "      <th>column_not_used</th>\n",
       "      <th>time_period_sortable</th>\n",
       "      <th>new_data</th>\n",
       "      <th>compared_to_goal</th>\n",
       "      <th>time_period_range</th>\n",
       "      <th>WD21CD</th>\n",
       "      <th>WD22CD</th>\n",
       "    </tr>\n",
       "  </thead>\n",
       "  <tbody>\n",
       "    <tr>\n",
       "      <th>0</th>\n",
       "      <td>93105</td>\n",
       "      <td>Reception prevalence of obesity (including sev...</td>\n",
       "      <td>E92000001</td>\n",
       "      <td>England</td>\n",
       "      <td>E05000026</td>\n",
       "      <td>Abbey</td>\n",
       "      <td>Electoral Wards (2021)</td>\n",
       "      <td>Persons</td>\n",
       "      <td>4-5 yrs</td>\n",
       "      <td>NaN</td>\n",
       "      <td>...</td>\n",
       "      <td>NaN</td>\n",
       "      <td>Cannot be calculated</td>\n",
       "      <td>Worse</td>\n",
       "      <td>Not compared</td>\n",
       "      <td>20210000</td>\n",
       "      <td>NaN</td>\n",
       "      <td>NaN</td>\n",
       "      <td>3y</td>\n",
       "      <td>E05000026</td>\n",
       "      <td>E05014066</td>\n",
       "    </tr>\n",
       "    <tr>\n",
       "      <th>1</th>\n",
       "      <td>93105</td>\n",
       "      <td>Reception prevalence of obesity (including sev...</td>\n",
       "      <td>E92000001</td>\n",
       "      <td>England</td>\n",
       "      <td>E05000027</td>\n",
       "      <td>Alibon</td>\n",
       "      <td>Electoral Wards (2021)</td>\n",
       "      <td>Persons</td>\n",
       "      <td>4-5 yrs</td>\n",
       "      <td>NaN</td>\n",
       "      <td>...</td>\n",
       "      <td>NaN</td>\n",
       "      <td>Cannot be calculated</td>\n",
       "      <td>Worse</td>\n",
       "      <td>Not compared</td>\n",
       "      <td>20210000</td>\n",
       "      <td>NaN</td>\n",
       "      <td>NaN</td>\n",
       "      <td>3y</td>\n",
       "      <td>E05000027</td>\n",
       "      <td>E05014054</td>\n",
       "    </tr>\n",
       "    <tr>\n",
       "      <th>2</th>\n",
       "      <td>93105</td>\n",
       "      <td>Reception prevalence of obesity (including sev...</td>\n",
       "      <td>E92000001</td>\n",
       "      <td>England</td>\n",
       "      <td>E05000028</td>\n",
       "      <td>Becontree</td>\n",
       "      <td>Electoral Wards (2021)</td>\n",
       "      <td>Persons</td>\n",
       "      <td>4-5 yrs</td>\n",
       "      <td>NaN</td>\n",
       "      <td>...</td>\n",
       "      <td>NaN</td>\n",
       "      <td>Cannot be calculated</td>\n",
       "      <td>Worse</td>\n",
       "      <td>Not compared</td>\n",
       "      <td>20210000</td>\n",
       "      <td>NaN</td>\n",
       "      <td>NaN</td>\n",
       "      <td>3y</td>\n",
       "      <td>E05000028</td>\n",
       "      <td>E05014057</td>\n",
       "    </tr>\n",
       "    <tr>\n",
       "      <th>3</th>\n",
       "      <td>93105</td>\n",
       "      <td>Reception prevalence of obesity (including sev...</td>\n",
       "      <td>E92000001</td>\n",
       "      <td>England</td>\n",
       "      <td>E05000029</td>\n",
       "      <td>Chadwell Heath</td>\n",
       "      <td>Electoral Wards (2021)</td>\n",
       "      <td>Persons</td>\n",
       "      <td>4-5 yrs</td>\n",
       "      <td>NaN</td>\n",
       "      <td>...</td>\n",
       "      <td>NaN</td>\n",
       "      <td>Cannot be calculated</td>\n",
       "      <td>Worse</td>\n",
       "      <td>Not compared</td>\n",
       "      <td>20210000</td>\n",
       "      <td>NaN</td>\n",
       "      <td>NaN</td>\n",
       "      <td>3y</td>\n",
       "      <td>E05000029</td>\n",
       "      <td>E05014058</td>\n",
       "    </tr>\n",
       "    <tr>\n",
       "      <th>4</th>\n",
       "      <td>93105</td>\n",
       "      <td>Reception prevalence of obesity (including sev...</td>\n",
       "      <td>E92000001</td>\n",
       "      <td>England</td>\n",
       "      <td>E05000030</td>\n",
       "      <td>Eastbrook</td>\n",
       "      <td>Electoral Wards (2021)</td>\n",
       "      <td>Persons</td>\n",
       "      <td>4-5 yrs</td>\n",
       "      <td>NaN</td>\n",
       "      <td>...</td>\n",
       "      <td>NaN</td>\n",
       "      <td>Cannot be calculated</td>\n",
       "      <td>Worse</td>\n",
       "      <td>Not compared</td>\n",
       "      <td>20210000</td>\n",
       "      <td>NaN</td>\n",
       "      <td>NaN</td>\n",
       "      <td>3y</td>\n",
       "      <td>E05000030</td>\n",
       "      <td>E05014059</td>\n",
       "    </tr>\n",
       "    <tr>\n",
       "      <th>5</th>\n",
       "      <td>93105</td>\n",
       "      <td>Reception prevalence of obesity (including sev...</td>\n",
       "      <td>E92000001</td>\n",
       "      <td>England</td>\n",
       "      <td>E05000031</td>\n",
       "      <td>Eastbury</td>\n",
       "      <td>Electoral Wards (2021)</td>\n",
       "      <td>Persons</td>\n",
       "      <td>4-5 yrs</td>\n",
       "      <td>NaN</td>\n",
       "      <td>...</td>\n",
       "      <td>NaN</td>\n",
       "      <td>Cannot be calculated</td>\n",
       "      <td>Worse</td>\n",
       "      <td>Not compared</td>\n",
       "      <td>20210000</td>\n",
       "      <td>NaN</td>\n",
       "      <td>NaN</td>\n",
       "      <td>3y</td>\n",
       "      <td>E05000031</td>\n",
       "      <td>E05014060</td>\n",
       "    </tr>\n",
       "  </tbody>\n",
       "</table>\n",
       "<p>6 rows × 29 columns</p>\n",
       "</div>"
      ],
      "text/plain": [
       "   indicator_id                                     indicator_name  \\\n",
       "0         93105  Reception prevalence of obesity (including sev...   \n",
       "1         93105  Reception prevalence of obesity (including sev...   \n",
       "2         93105  Reception prevalence of obesity (including sev...   \n",
       "3         93105  Reception prevalence of obesity (including sev...   \n",
       "4         93105  Reception prevalence of obesity (including sev...   \n",
       "5         93105  Reception prevalence of obesity (including sev...   \n",
       "\n",
       "  parent_code parent_name  area_code       area_name               area_type  \\\n",
       "0   E92000001     England  E05000026           Abbey  Electoral Wards (2021)   \n",
       "1   E92000001     England  E05000027          Alibon  Electoral Wards (2021)   \n",
       "2   E92000001     England  E05000028       Becontree  Electoral Wards (2021)   \n",
       "3   E92000001     England  E05000029  Chadwell Heath  Electoral Wards (2021)   \n",
       "4   E92000001     England  E05000030       Eastbrook  Electoral Wards (2021)   \n",
       "5   E92000001     England  E05000031        Eastbury  Electoral Wards (2021)   \n",
       "\n",
       "       sex      age category_type  ... value_note          recent_trend  \\\n",
       "0  Persons  4-5 yrs           NaN  ...        NaN  Cannot be calculated   \n",
       "1  Persons  4-5 yrs           NaN  ...        NaN  Cannot be calculated   \n",
       "2  Persons  4-5 yrs           NaN  ...        NaN  Cannot be calculated   \n",
       "3  Persons  4-5 yrs           NaN  ...        NaN  Cannot be calculated   \n",
       "4  Persons  4-5 yrs           NaN  ...        NaN  Cannot be calculated   \n",
       "5  Persons  4-5 yrs           NaN  ...        NaN  Cannot be calculated   \n",
       "\n",
       "   compared_to_england_value_or_percentiles  column_not_used  \\\n",
       "0                                     Worse     Not compared   \n",
       "1                                     Worse     Not compared   \n",
       "2                                     Worse     Not compared   \n",
       "3                                     Worse     Not compared   \n",
       "4                                     Worse     Not compared   \n",
       "5                                     Worse     Not compared   \n",
       "\n",
       "   time_period_sortable  new_data  compared_to_goal  time_period_range  \\\n",
       "0              20210000       NaN               NaN                 3y   \n",
       "1              20210000       NaN               NaN                 3y   \n",
       "2              20210000       NaN               NaN                 3y   \n",
       "3              20210000       NaN               NaN                 3y   \n",
       "4              20210000       NaN               NaN                 3y   \n",
       "5              20210000       NaN               NaN                 3y   \n",
       "\n",
       "      WD21CD     WD22CD  \n",
       "0  E05000026  E05014066  \n",
       "1  E05000027  E05014054  \n",
       "2  E05000028  E05014057  \n",
       "3  E05000029  E05014058  \n",
       "4  E05000030  E05014059  \n",
       "5  E05000031  E05014060  \n",
       "\n",
       "[6 rows x 29 columns]"
      ]
     },
     "execution_count": 17,
     "metadata": {},
     "output_type": "execute_result"
    }
   ],
   "source": [
    "child_obesity_2124_mapped.head(6)"
   ]
  },
  {
   "cell_type": "code",
   "execution_count": 18,
   "metadata": {},
   "outputs": [],
   "source": [
    "# 第四步：使用2022年代码合并child_obesity和household_deprivation\n",
    "merged_0= green_cover.merge(\n",
    "    child_obesity_2124_mapped,\n",
    "    left_on='ward_code',\n",
    "    right_on='WD22CD',  # household_deprivation中的WD22CD列\n",
    "    how='inner'\n",
    ")"
   ]
  },
  {
   "cell_type": "code",
   "execution_count": 85,
   "metadata": {},
   "outputs": [
    {
     "data": {
      "text/plain": [
       "(639, 35)"
      ]
     },
     "execution_count": 85,
     "metadata": {},
     "output_type": "execute_result"
    }
   ],
   "source": [
    "merged_0.shape"
   ]
  },
  {
   "cell_type": "code",
   "execution_count": 32,
   "metadata": {},
   "outputs": [
    {
     "data": {
      "text/plain": [
       "(6326, 5)"
      ]
     },
     "execution_count": 32,
     "metadata": {},
     "output_type": "execute_result"
    }
   ],
   "source": [
    "fast_food.shape"
   ]
  },
  {
   "cell_type": "code",
   "execution_count": 31,
   "metadata": {},
   "outputs": [
    {
     "data": {
      "text/plain": [
       "(704, 6)"
      ]
     },
     "execution_count": 31,
     "metadata": {},
     "output_type": "execute_result"
    }
   ],
   "source": [
    "green_cover.shape"
   ]
  },
  {
   "cell_type": "code",
   "execution_count": 19,
   "metadata": {},
   "outputs": [
    {
     "data": {
      "text/plain": [
       "(639, 58)"
      ]
     },
     "execution_count": 19,
     "metadata": {},
     "output_type": "execute_result"
    }
   ],
   "source": [
    "# merge green_cover and fast_food\n",
    "merged_data = green_cover.merge(fast_food, on='ward_code', how='left')\n",
    "# then merge with usual_residents\n",
    "merged_data_2 = merged_data.merge(usual_residents, on='ward_code', how='left')\n",
    "# then merge with household_deprivation\n",
    "merged_data_3 = merged_data_2.merge(household_deprivation, on='ward_code', how='left')\n",
    "merged_data_3.shape\n",
    "\n",
    "# then merge with child_obesity_2124\n",
    "merged_data_4= merged_data_3.merge(child_obesity_2124_mapped, left_on='ward_code', right_on='WD22CD', how='inner')\n",
    "merged_data_4.shape"
   ]
  },
  {
   "cell_type": "code",
   "execution_count": 67,
   "metadata": {},
   "outputs": [],
   "source": [
    "all_data = merged_data_4.copy()\n",
    "\n",
    "# calculate the index: Fast food outlets per 100,000 population\n",
    "all_data['fast_food_outlets_percentage'] = all_data['count_of_outlets']/all_data['all_usual_residents']*100000\n",
    "\n",
    "# calculate the index: Household deprivation index (%)\n",
    "all_data['2_household_deprivation'] = all_data['deprived_in:_no_dimensions']/all_data['all_households']*100\n",
    "\n",
    "# calculate the index: Green space coverage(%)\n",
    "all_data['green_space_coverage'] = all_data['percentage']*100\n"
   ]
  },
  {
   "cell_type": "code",
   "execution_count": 68,
   "metadata": {},
   "outputs": [],
   "source": [
    "# create a clean DataFrame only containing ward code, name and four main indicators\n",
    "variables = pd.DataFrame({\n",
    "    'ward_code': all_data['ward_code'],\n",
    "    'ward_name': all_data['ward'], \n",
    "    'fast_food_outlets': all_data['fast_food_outlets_percentage'],  \n",
    "    'household_deprivation': all_data['2_household_deprivation'],  \n",
    "    'green_space_coverage': all_data['green_space_coverage'],  \n",
    "    'child_obesity': all_data['value']  # Child obesity rate\n",
    "})"
   ]
  },
  {
   "cell_type": "code",
   "execution_count": 69,
   "metadata": {},
   "outputs": [
    {
     "data": {
      "text/html": [
       "<div>\n",
       "<style scoped>\n",
       "    .dataframe tbody tr th:only-of-type {\n",
       "        vertical-align: middle;\n",
       "    }\n",
       "\n",
       "    .dataframe tbody tr th {\n",
       "        vertical-align: top;\n",
       "    }\n",
       "\n",
       "    .dataframe thead th {\n",
       "        text-align: right;\n",
       "    }\n",
       "</style>\n",
       "<table border=\"1\" class=\"dataframe\">\n",
       "  <thead>\n",
       "    <tr style=\"text-align: right;\">\n",
       "      <th></th>\n",
       "      <th>ward_code</th>\n",
       "      <th>ward_name</th>\n",
       "      <th>fast_food_outlets</th>\n",
       "      <th>household_deprivation</th>\n",
       "      <th>green_space_coverage</th>\n",
       "      <th>child_obesity</th>\n",
       "    </tr>\n",
       "  </thead>\n",
       "  <tbody>\n",
       "    <tr>\n",
       "      <th>0</th>\n",
       "      <td>E05013973</td>\n",
       "      <td>Harold Wood</td>\n",
       "      <td>93.1766</td>\n",
       "      <td>52.3784</td>\n",
       "      <td>70.8127</td>\n",
       "      <td>6.7961</td>\n",
       "    </tr>\n",
       "    <tr>\n",
       "      <th>1</th>\n",
       "      <td>E05013991</td>\n",
       "      <td>Bromley Town</td>\n",
       "      <td>221.1551</td>\n",
       "      <td>58.9361</td>\n",
       "      <td>47.9929</td>\n",
       "      <td>7.6923</td>\n",
       "    </tr>\n",
       "    <tr>\n",
       "      <th>2</th>\n",
       "      <td>E05011248</td>\n",
       "      <td>Mayfield</td>\n",
       "      <td>43.7719</td>\n",
       "      <td>43.0150</td>\n",
       "      <td>32.2354</td>\n",
       "      <td>14.0351</td>\n",
       "    </tr>\n",
       "    <tr>\n",
       "      <th>3</th>\n",
       "      <td>E05013968</td>\n",
       "      <td>Cranham</td>\n",
       "      <td>53.9915</td>\n",
       "      <td>52.8086</td>\n",
       "      <td>61.9750</td>\n",
       "      <td>7.0588</td>\n",
       "    </tr>\n",
       "    <tr>\n",
       "      <th>4</th>\n",
       "      <td>E05014119</td>\n",
       "      <td>West Dulwich</td>\n",
       "      <td>60.6744</td>\n",
       "      <td>56.8788</td>\n",
       "      <td>43.6431</td>\n",
       "      <td>8.6957</td>\n",
       "    </tr>\n",
       "  </tbody>\n",
       "</table>\n",
       "</div>"
      ],
      "text/plain": [
       "   ward_code     ward_name                        fast_food_outlets  \\\n",
       "0  E05013973   Harold Wood                                  93.1766   \n",
       "1  E05013991  Bromley Town                                 221.1551   \n",
       "2  E05011248      Mayfield                                  43.7719   \n",
       "3  E05013968       Cranham                                  53.9915   \n",
       "4  E05014119  West Dulwich                                  60.6744   \n",
       "\n",
       "                     household_deprivation  \\\n",
       "0                                  52.3784   \n",
       "1                                  58.9361   \n",
       "2                                  43.0150   \n",
       "3                                  52.8086   \n",
       "4                                  56.8788   \n",
       "\n",
       "                      green_space_coverage  \\\n",
       "0                                  70.8127   \n",
       "1                                  47.9929   \n",
       "2                                  32.2354   \n",
       "3                                  61.9750   \n",
       "4                                  43.6431   \n",
       "\n",
       "                             child_obesity  \n",
       "0                                   6.7961  \n",
       "1                                   7.6923  \n",
       "2                                  14.0351  \n",
       "3                                   7.0588  \n",
       "4                                   8.6957  "
      ]
     },
     "execution_count": 69,
     "metadata": {},
     "output_type": "execute_result"
    }
   ],
   "source": [
    "variables.head(5)"
   ]
  },
  {
   "cell_type": "code",
   "execution_count": 70,
   "metadata": {},
   "outputs": [],
   "source": [
    "# Feature Engineering\n",
    "# select relevant features\n",
    "features = ['green_space_coverage', \n",
    "           'fast_food_outlets',\n",
    "           'household_deprivation']  \n",
    "\n",
    "target = 'child_obesity'\n",
    "\n",
    "\n",
    "# remove rows containing missing values\n",
    "data = variables.dropna(subset=features + [target])"
   ]
  },
  {
   "cell_type": "code",
   "execution_count": 71,
   "metadata": {},
   "outputs": [],
   "source": [
    "# split the dataset\n",
    "X = data[features]\n",
    "y = data[target]\n",
    "X_train, X_test, y_train, y_test = train_test_split(X, y, test_size=0.2, random_state=42)"
   ]
  },
  {
   "cell_type": "code",
   "execution_count": 72,
   "metadata": {},
   "outputs": [],
   "source": [
    "# feature standardization\n",
    "scaler = StandardScaler()\n",
    "X_train_scaled = scaler.fit_transform(X_train)\n",
    "X_test_scaled = scaler.transform(X_test)"
   ]
  },
  {
   "cell_type": "code",
   "execution_count": 73,
   "metadata": {},
   "outputs": [],
   "source": [
    "# build the model\n",
    "model = RandomForestRegressor(n_estimators=100, random_state=42)"
   ]
  },
  {
   "cell_type": "code",
   "execution_count": 74,
   "metadata": {},
   "outputs": [
    {
     "name": "stdout",
     "output_type": "stream",
     "text": [
      "Cross-validation MSE: 5.2473, Standard deviation: 0.3833\n"
     ]
    }
   ],
   "source": [
    "# cross-validation evaluation\n",
    "cv_scores = cross_val_score(model, X_train_scaled, y_train, cv=5, scoring='neg_mean_squared_error')\n",
    "print(f\"Cross-validation MSE: {-cv_scores.mean():.4f}, Standard deviation: {cv_scores.std():.4f}\")"
   ]
  },
  {
   "cell_type": "code",
   "execution_count": 75,
   "metadata": {},
   "outputs": [
    {
     "data": {
      "text/html": [
       "<style>#sk-container-id-4 {\n",
       "  /* Definition of color scheme common for light and dark mode */\n",
       "  --sklearn-color-text: black;\n",
       "  --sklearn-color-line: gray;\n",
       "  /* Definition of color scheme for unfitted estimators */\n",
       "  --sklearn-color-unfitted-level-0: #fff5e6;\n",
       "  --sklearn-color-unfitted-level-1: #f6e4d2;\n",
       "  --sklearn-color-unfitted-level-2: #ffe0b3;\n",
       "  --sklearn-color-unfitted-level-3: chocolate;\n",
       "  /* Definition of color scheme for fitted estimators */\n",
       "  --sklearn-color-fitted-level-0: #f0f8ff;\n",
       "  --sklearn-color-fitted-level-1: #d4ebff;\n",
       "  --sklearn-color-fitted-level-2: #b3dbfd;\n",
       "  --sklearn-color-fitted-level-3: cornflowerblue;\n",
       "\n",
       "  /* Specific color for light theme */\n",
       "  --sklearn-color-text-on-default-background: var(--sg-text-color, var(--theme-code-foreground, var(--jp-content-font-color1, black)));\n",
       "  --sklearn-color-background: var(--sg-background-color, var(--theme-background, var(--jp-layout-color0, white)));\n",
       "  --sklearn-color-border-box: var(--sg-text-color, var(--theme-code-foreground, var(--jp-content-font-color1, black)));\n",
       "  --sklearn-color-icon: #696969;\n",
       "\n",
       "  @media (prefers-color-scheme: dark) {\n",
       "    /* Redefinition of color scheme for dark theme */\n",
       "    --sklearn-color-text-on-default-background: var(--sg-text-color, var(--theme-code-foreground, var(--jp-content-font-color1, white)));\n",
       "    --sklearn-color-background: var(--sg-background-color, var(--theme-background, var(--jp-layout-color0, #111)));\n",
       "    --sklearn-color-border-box: var(--sg-text-color, var(--theme-code-foreground, var(--jp-content-font-color1, white)));\n",
       "    --sklearn-color-icon: #878787;\n",
       "  }\n",
       "}\n",
       "\n",
       "#sk-container-id-4 {\n",
       "  color: var(--sklearn-color-text);\n",
       "}\n",
       "\n",
       "#sk-container-id-4 pre {\n",
       "  padding: 0;\n",
       "}\n",
       "\n",
       "#sk-container-id-4 input.sk-hidden--visually {\n",
       "  border: 0;\n",
       "  clip: rect(1px 1px 1px 1px);\n",
       "  clip: rect(1px, 1px, 1px, 1px);\n",
       "  height: 1px;\n",
       "  margin: -1px;\n",
       "  overflow: hidden;\n",
       "  padding: 0;\n",
       "  position: absolute;\n",
       "  width: 1px;\n",
       "}\n",
       "\n",
       "#sk-container-id-4 div.sk-dashed-wrapped {\n",
       "  border: 1px dashed var(--sklearn-color-line);\n",
       "  margin: 0 0.4em 0.5em 0.4em;\n",
       "  box-sizing: border-box;\n",
       "  padding-bottom: 0.4em;\n",
       "  background-color: var(--sklearn-color-background);\n",
       "}\n",
       "\n",
       "#sk-container-id-4 div.sk-container {\n",
       "  /* jupyter's `normalize.less` sets `[hidden] { display: none; }`\n",
       "     but bootstrap.min.css set `[hidden] { display: none !important; }`\n",
       "     so we also need the `!important` here to be able to override the\n",
       "     default hidden behavior on the sphinx rendered scikit-learn.org.\n",
       "     See: https://github.com/scikit-learn/scikit-learn/issues/21755 */\n",
       "  display: inline-block !important;\n",
       "  position: relative;\n",
       "}\n",
       "\n",
       "#sk-container-id-4 div.sk-text-repr-fallback {\n",
       "  display: none;\n",
       "}\n",
       "\n",
       "div.sk-parallel-item,\n",
       "div.sk-serial,\n",
       "div.sk-item {\n",
       "  /* draw centered vertical line to link estimators */\n",
       "  background-image: linear-gradient(var(--sklearn-color-text-on-default-background), var(--sklearn-color-text-on-default-background));\n",
       "  background-size: 2px 100%;\n",
       "  background-repeat: no-repeat;\n",
       "  background-position: center center;\n",
       "}\n",
       "\n",
       "/* Parallel-specific style estimator block */\n",
       "\n",
       "#sk-container-id-4 div.sk-parallel-item::after {\n",
       "  content: \"\";\n",
       "  width: 100%;\n",
       "  border-bottom: 2px solid var(--sklearn-color-text-on-default-background);\n",
       "  flex-grow: 1;\n",
       "}\n",
       "\n",
       "#sk-container-id-4 div.sk-parallel {\n",
       "  display: flex;\n",
       "  align-items: stretch;\n",
       "  justify-content: center;\n",
       "  background-color: var(--sklearn-color-background);\n",
       "  position: relative;\n",
       "}\n",
       "\n",
       "#sk-container-id-4 div.sk-parallel-item {\n",
       "  display: flex;\n",
       "  flex-direction: column;\n",
       "}\n",
       "\n",
       "#sk-container-id-4 div.sk-parallel-item:first-child::after {\n",
       "  align-self: flex-end;\n",
       "  width: 50%;\n",
       "}\n",
       "\n",
       "#sk-container-id-4 div.sk-parallel-item:last-child::after {\n",
       "  align-self: flex-start;\n",
       "  width: 50%;\n",
       "}\n",
       "\n",
       "#sk-container-id-4 div.sk-parallel-item:only-child::after {\n",
       "  width: 0;\n",
       "}\n",
       "\n",
       "/* Serial-specific style estimator block */\n",
       "\n",
       "#sk-container-id-4 div.sk-serial {\n",
       "  display: flex;\n",
       "  flex-direction: column;\n",
       "  align-items: center;\n",
       "  background-color: var(--sklearn-color-background);\n",
       "  padding-right: 1em;\n",
       "  padding-left: 1em;\n",
       "}\n",
       "\n",
       "\n",
       "/* Toggleable style: style used for estimator/Pipeline/ColumnTransformer box that is\n",
       "clickable and can be expanded/collapsed.\n",
       "- Pipeline and ColumnTransformer use this feature and define the default style\n",
       "- Estimators will overwrite some part of the style using the `sk-estimator` class\n",
       "*/\n",
       "\n",
       "/* Pipeline and ColumnTransformer style (default) */\n",
       "\n",
       "#sk-container-id-4 div.sk-toggleable {\n",
       "  /* Default theme specific background. It is overwritten whether we have a\n",
       "  specific estimator or a Pipeline/ColumnTransformer */\n",
       "  background-color: var(--sklearn-color-background);\n",
       "}\n",
       "\n",
       "/* Toggleable label */\n",
       "#sk-container-id-4 label.sk-toggleable__label {\n",
       "  cursor: pointer;\n",
       "  display: block;\n",
       "  width: 100%;\n",
       "  margin-bottom: 0;\n",
       "  padding: 0.5em;\n",
       "  box-sizing: border-box;\n",
       "  text-align: center;\n",
       "}\n",
       "\n",
       "#sk-container-id-4 label.sk-toggleable__label-arrow:before {\n",
       "  /* Arrow on the left of the label */\n",
       "  content: \"▸\";\n",
       "  float: left;\n",
       "  margin-right: 0.25em;\n",
       "  color: var(--sklearn-color-icon);\n",
       "}\n",
       "\n",
       "#sk-container-id-4 label.sk-toggleable__label-arrow:hover:before {\n",
       "  color: var(--sklearn-color-text);\n",
       "}\n",
       "\n",
       "/* Toggleable content - dropdown */\n",
       "\n",
       "#sk-container-id-4 div.sk-toggleable__content {\n",
       "  max-height: 0;\n",
       "  max-width: 0;\n",
       "  overflow: hidden;\n",
       "  text-align: left;\n",
       "  /* unfitted */\n",
       "  background-color: var(--sklearn-color-unfitted-level-0);\n",
       "}\n",
       "\n",
       "#sk-container-id-4 div.sk-toggleable__content.fitted {\n",
       "  /* fitted */\n",
       "  background-color: var(--sklearn-color-fitted-level-0);\n",
       "}\n",
       "\n",
       "#sk-container-id-4 div.sk-toggleable__content pre {\n",
       "  margin: 0.2em;\n",
       "  border-radius: 0.25em;\n",
       "  color: var(--sklearn-color-text);\n",
       "  /* unfitted */\n",
       "  background-color: var(--sklearn-color-unfitted-level-0);\n",
       "}\n",
       "\n",
       "#sk-container-id-4 div.sk-toggleable__content.fitted pre {\n",
       "  /* unfitted */\n",
       "  background-color: var(--sklearn-color-fitted-level-0);\n",
       "}\n",
       "\n",
       "#sk-container-id-4 input.sk-toggleable__control:checked~div.sk-toggleable__content {\n",
       "  /* Expand drop-down */\n",
       "  max-height: 200px;\n",
       "  max-width: 100%;\n",
       "  overflow: auto;\n",
       "}\n",
       "\n",
       "#sk-container-id-4 input.sk-toggleable__control:checked~label.sk-toggleable__label-arrow:before {\n",
       "  content: \"▾\";\n",
       "}\n",
       "\n",
       "/* Pipeline/ColumnTransformer-specific style */\n",
       "\n",
       "#sk-container-id-4 div.sk-label input.sk-toggleable__control:checked~label.sk-toggleable__label {\n",
       "  color: var(--sklearn-color-text);\n",
       "  background-color: var(--sklearn-color-unfitted-level-2);\n",
       "}\n",
       "\n",
       "#sk-container-id-4 div.sk-label.fitted input.sk-toggleable__control:checked~label.sk-toggleable__label {\n",
       "  background-color: var(--sklearn-color-fitted-level-2);\n",
       "}\n",
       "\n",
       "/* Estimator-specific style */\n",
       "\n",
       "/* Colorize estimator box */\n",
       "#sk-container-id-4 div.sk-estimator input.sk-toggleable__control:checked~label.sk-toggleable__label {\n",
       "  /* unfitted */\n",
       "  background-color: var(--sklearn-color-unfitted-level-2);\n",
       "}\n",
       "\n",
       "#sk-container-id-4 div.sk-estimator.fitted input.sk-toggleable__control:checked~label.sk-toggleable__label {\n",
       "  /* fitted */\n",
       "  background-color: var(--sklearn-color-fitted-level-2);\n",
       "}\n",
       "\n",
       "#sk-container-id-4 div.sk-label label.sk-toggleable__label,\n",
       "#sk-container-id-4 div.sk-label label {\n",
       "  /* The background is the default theme color */\n",
       "  color: var(--sklearn-color-text-on-default-background);\n",
       "}\n",
       "\n",
       "/* On hover, darken the color of the background */\n",
       "#sk-container-id-4 div.sk-label:hover label.sk-toggleable__label {\n",
       "  color: var(--sklearn-color-text);\n",
       "  background-color: var(--sklearn-color-unfitted-level-2);\n",
       "}\n",
       "\n",
       "/* Label box, darken color on hover, fitted */\n",
       "#sk-container-id-4 div.sk-label.fitted:hover label.sk-toggleable__label.fitted {\n",
       "  color: var(--sklearn-color-text);\n",
       "  background-color: var(--sklearn-color-fitted-level-2);\n",
       "}\n",
       "\n",
       "/* Estimator label */\n",
       "\n",
       "#sk-container-id-4 div.sk-label label {\n",
       "  font-family: monospace;\n",
       "  font-weight: bold;\n",
       "  display: inline-block;\n",
       "  line-height: 1.2em;\n",
       "}\n",
       "\n",
       "#sk-container-id-4 div.sk-label-container {\n",
       "  text-align: center;\n",
       "}\n",
       "\n",
       "/* Estimator-specific */\n",
       "#sk-container-id-4 div.sk-estimator {\n",
       "  font-family: monospace;\n",
       "  border: 1px dotted var(--sklearn-color-border-box);\n",
       "  border-radius: 0.25em;\n",
       "  box-sizing: border-box;\n",
       "  margin-bottom: 0.5em;\n",
       "  /* unfitted */\n",
       "  background-color: var(--sklearn-color-unfitted-level-0);\n",
       "}\n",
       "\n",
       "#sk-container-id-4 div.sk-estimator.fitted {\n",
       "  /* fitted */\n",
       "  background-color: var(--sklearn-color-fitted-level-0);\n",
       "}\n",
       "\n",
       "/* on hover */\n",
       "#sk-container-id-4 div.sk-estimator:hover {\n",
       "  /* unfitted */\n",
       "  background-color: var(--sklearn-color-unfitted-level-2);\n",
       "}\n",
       "\n",
       "#sk-container-id-4 div.sk-estimator.fitted:hover {\n",
       "  /* fitted */\n",
       "  background-color: var(--sklearn-color-fitted-level-2);\n",
       "}\n",
       "\n",
       "/* Specification for estimator info (e.g. \"i\" and \"?\") */\n",
       "\n",
       "/* Common style for \"i\" and \"?\" */\n",
       "\n",
       ".sk-estimator-doc-link,\n",
       "a:link.sk-estimator-doc-link,\n",
       "a:visited.sk-estimator-doc-link {\n",
       "  float: right;\n",
       "  font-size: smaller;\n",
       "  line-height: 1em;\n",
       "  font-family: monospace;\n",
       "  background-color: var(--sklearn-color-background);\n",
       "  border-radius: 1em;\n",
       "  height: 1em;\n",
       "  width: 1em;\n",
       "  text-decoration: none !important;\n",
       "  margin-left: 1ex;\n",
       "  /* unfitted */\n",
       "  border: var(--sklearn-color-unfitted-level-1) 1pt solid;\n",
       "  color: var(--sklearn-color-unfitted-level-1);\n",
       "}\n",
       "\n",
       ".sk-estimator-doc-link.fitted,\n",
       "a:link.sk-estimator-doc-link.fitted,\n",
       "a:visited.sk-estimator-doc-link.fitted {\n",
       "  /* fitted */\n",
       "  border: var(--sklearn-color-fitted-level-1) 1pt solid;\n",
       "  color: var(--sklearn-color-fitted-level-1);\n",
       "}\n",
       "\n",
       "/* On hover */\n",
       "div.sk-estimator:hover .sk-estimator-doc-link:hover,\n",
       ".sk-estimator-doc-link:hover,\n",
       "div.sk-label-container:hover .sk-estimator-doc-link:hover,\n",
       ".sk-estimator-doc-link:hover {\n",
       "  /* unfitted */\n",
       "  background-color: var(--sklearn-color-unfitted-level-3);\n",
       "  color: var(--sklearn-color-background);\n",
       "  text-decoration: none;\n",
       "}\n",
       "\n",
       "div.sk-estimator.fitted:hover .sk-estimator-doc-link.fitted:hover,\n",
       ".sk-estimator-doc-link.fitted:hover,\n",
       "div.sk-label-container:hover .sk-estimator-doc-link.fitted:hover,\n",
       ".sk-estimator-doc-link.fitted:hover {\n",
       "  /* fitted */\n",
       "  background-color: var(--sklearn-color-fitted-level-3);\n",
       "  color: var(--sklearn-color-background);\n",
       "  text-decoration: none;\n",
       "}\n",
       "\n",
       "/* Span, style for the box shown on hovering the info icon */\n",
       ".sk-estimator-doc-link span {\n",
       "  display: none;\n",
       "  z-index: 9999;\n",
       "  position: relative;\n",
       "  font-weight: normal;\n",
       "  right: .2ex;\n",
       "  padding: .5ex;\n",
       "  margin: .5ex;\n",
       "  width: min-content;\n",
       "  min-width: 20ex;\n",
       "  max-width: 50ex;\n",
       "  color: var(--sklearn-color-text);\n",
       "  box-shadow: 2pt 2pt 4pt #999;\n",
       "  /* unfitted */\n",
       "  background: var(--sklearn-color-unfitted-level-0);\n",
       "  border: .5pt solid var(--sklearn-color-unfitted-level-3);\n",
       "}\n",
       "\n",
       ".sk-estimator-doc-link.fitted span {\n",
       "  /* fitted */\n",
       "  background: var(--sklearn-color-fitted-level-0);\n",
       "  border: var(--sklearn-color-fitted-level-3);\n",
       "}\n",
       "\n",
       ".sk-estimator-doc-link:hover span {\n",
       "  display: block;\n",
       "}\n",
       "\n",
       "/* \"?\"-specific style due to the `<a>` HTML tag */\n",
       "\n",
       "#sk-container-id-4 a.estimator_doc_link {\n",
       "  float: right;\n",
       "  font-size: 1rem;\n",
       "  line-height: 1em;\n",
       "  font-family: monospace;\n",
       "  background-color: var(--sklearn-color-background);\n",
       "  border-radius: 1rem;\n",
       "  height: 1rem;\n",
       "  width: 1rem;\n",
       "  text-decoration: none;\n",
       "  /* unfitted */\n",
       "  color: var(--sklearn-color-unfitted-level-1);\n",
       "  border: var(--sklearn-color-unfitted-level-1) 1pt solid;\n",
       "}\n",
       "\n",
       "#sk-container-id-4 a.estimator_doc_link.fitted {\n",
       "  /* fitted */\n",
       "  border: var(--sklearn-color-fitted-level-1) 1pt solid;\n",
       "  color: var(--sklearn-color-fitted-level-1);\n",
       "}\n",
       "\n",
       "/* On hover */\n",
       "#sk-container-id-4 a.estimator_doc_link:hover {\n",
       "  /* unfitted */\n",
       "  background-color: var(--sklearn-color-unfitted-level-3);\n",
       "  color: var(--sklearn-color-background);\n",
       "  text-decoration: none;\n",
       "}\n",
       "\n",
       "#sk-container-id-4 a.estimator_doc_link.fitted:hover {\n",
       "  /* fitted */\n",
       "  background-color: var(--sklearn-color-fitted-level-3);\n",
       "}\n",
       "</style><div id=\"sk-container-id-4\" class=\"sk-top-container\"><div class=\"sk-text-repr-fallback\"><pre>RandomForestRegressor(random_state=42)</pre><b>In a Jupyter environment, please rerun this cell to show the HTML representation or trust the notebook. <br />On GitHub, the HTML representation is unable to render, please try loading this page with nbviewer.org.</b></div><div class=\"sk-container\" hidden><div class=\"sk-item\"><div class=\"sk-estimator fitted sk-toggleable\"><input class=\"sk-toggleable__control sk-hidden--visually\" id=\"sk-estimator-id-4\" type=\"checkbox\" checked><label for=\"sk-estimator-id-4\" class=\"sk-toggleable__label fitted sk-toggleable__label-arrow fitted\">&nbsp;&nbsp;RandomForestRegressor<a class=\"sk-estimator-doc-link fitted\" rel=\"noreferrer\" target=\"_blank\" href=\"https://scikit-learn.org/1.5/modules/generated/sklearn.ensemble.RandomForestRegressor.html\">?<span>Documentation for RandomForestRegressor</span></a><span class=\"sk-estimator-doc-link fitted\">i<span>Fitted</span></span></label><div class=\"sk-toggleable__content fitted\"><pre>RandomForestRegressor(random_state=42)</pre></div> </div></div></div></div>"
      ],
      "text/plain": [
       "RandomForestRegressor(random_state=42)"
      ]
     },
     "execution_count": 75,
     "metadata": {},
     "output_type": "execute_result"
    }
   ],
   "source": [
    "# train the model\n",
    "model.fit(X_train_scaled, y_train)"
   ]
  },
  {
   "cell_type": "code",
   "execution_count": 76,
   "metadata": {},
   "outputs": [
    {
     "name": "stdout",
     "output_type": "stream",
     "text": [
      "\n",
      "Feature importance:\n",
      "household_deprivation: 0.5995\n",
      "fast_food_outlets: 0.2142\n",
      "green_space_coverage: 0.1863\n"
     ]
    }
   ],
   "source": [
    "# feature importance\n",
    "importance = model.feature_importances_\n",
    "feature_names = X.columns\n",
    "indices = np.argsort(importance)[::-1]\n",
    "\n",
    "print(\"\\nFeature importance:\")\n",
    "for i in range(len(feature_names)):\n",
    "    print(f\"{feature_names[indices[i]]}: {importance[indices[i]]:.4f}\")"
   ]
  },
  {
   "cell_type": "code",
   "execution_count": 77,
   "metadata": {},
   "outputs": [
    {
     "name": "stdout",
     "output_type": "stream",
     "text": [
      "\n",
      "Test set MSE: 5.5705\n",
      "Test set R²: 0.4801\n"
     ]
    }
   ],
   "source": [
    "# test set evaluation\n",
    "y_pred = model.predict(X_test_scaled)\n",
    "mse = mean_squared_error(y_test, y_pred)\n",
    "r2 = r2_score(y_test, y_pred)\n",
    "print(f\"\\nTest set MSE: {mse:.4f}\")\n",
    "print(f\"Test set R²: {r2:.4f}\")"
   ]
  },
  {
   "cell_type": "code",
   "execution_count": 36,
   "metadata": {},
   "outputs": [
    {
     "data": {
      "text/plain": [
       "<Figure size 1200x1000 with 0 Axes>"
      ]
     },
     "execution_count": 36,
     "metadata": {},
     "output_type": "execute_result"
    },
    {
     "data": {
      "text/plain": [
       "<Figure size 1200x1000 with 0 Axes>"
      ]
     },
     "metadata": {},
     "output_type": "display_data"
    }
   ],
   "source": [
    "plt.figure(figsize=(12, 10))"
   ]
  },
  {
   "cell_type": "code",
   "execution_count": null,
   "metadata": {},
   "outputs": [],
   "source": []
  },
  {
   "cell_type": "markdown",
   "metadata": {},
   "source": [
    "## Results and discussion\n",
    "\n",
    "[[ go back to the top ]](#Table-of-contents)"
   ]
  },
  {
   "cell_type": "code",
   "execution_count": 78,
   "metadata": {},
   "outputs": [
    {
     "data": {
      "text/plain": [
       "Text(0.5, 1.0, 'Feature importance')"
      ]
     },
     "execution_count": 78,
     "metadata": {},
     "output_type": "execute_result"
    },
    {
     "data": {
      "image/png": "[encoded data removed]",
      "text/plain": [
       "<Figure size 640x480 with 1 Axes>"
      ]
     },
     "metadata": {},
     "output_type": "display_data"
    }
   ],
   "source": [
    "# feature importance visualization\n",
    "plt.subplot(2, 2, 1)\n",
    "plt.bar(range(len(indices)), importance[indices], align='center')\n",
    "plt.xticks(range(len(indices)), [feature_names[i] for i in indices], rotation=90)\n",
    "plt.title('Feature importance')"
   ]
  },
  {
   "cell_type": "code",
   "execution_count": 79,
   "metadata": {},
   "outputs": [
    {
     "data": {
      "text/plain": [
       "Text(0.5, 1.0, 'Predicted vs Actual value')"
      ]
     },
     "execution_count": 79,
     "metadata": {},
     "output_type": "execute_result"
    },
    {
     "data": {
      "image/png": "[encoded data removed]",
      "text/plain": [
       "<Figure size 640x480 with 1 Axes>"
      ]
     },
     "metadata": {},
     "output_type": "display_data"
    }
   ],
   "source": [
    "# prediction vs actual value\n",
    "plt.subplot(2, 2, 2)\n",
    "plt.scatter(y_test, y_pred)\n",
    "plt.plot([y_test.min(), y_test.max()], [y_test.min(), y_test.max()], 'k--')\n",
    "plt.xlabel('Actual value')\n",
    "plt.ylabel('Predicted value')\n",
    "plt.title('Predicted vs Actual value')"
   ]
  },
  {
   "cell_type": "code",
   "execution_count": 80,
   "metadata": {},
   "outputs": [
    {
     "data": {
      "text/plain": [
       "Text(0.5, 1.0, 'Feature Correlation')"
      ]
     },
     "execution_count": 80,
     "metadata": {},
     "output_type": "execute_result"
    },
    {
     "data": {
      "image/png": "[encoded data removed]",
      "text/plain": [
       "<Figure size 640x480 with 2 Axes>"
      ]
     },
     "metadata": {},
     "output_type": "display_data"
    }
   ],
   "source": [
    "# correlation heatmap\n",
    "plt.subplot(2, 2, 3)\n",
    "correlation = data[features + [target]].corr()\n",
    "sns.heatmap(correlation, annot=True, cmap='coolwarm')\n",
    "plt.title('Feature Correlation')"
   ]
  },
  {
   "cell_type": "code",
   "execution_count": 81,
   "metadata": {},
   "outputs": [
    {
     "data": {
      "image/png": "[encoded data removed]",
      "text/plain": [
       "<Figure size 640x480 with 1 Axes>"
      ]
     },
     "metadata": {},
     "output_type": "display_data"
    }
   ],
   "source": [
    "# Green space coverage vs obesity rate\n",
    "plt.subplot(2, 2, 4)\n",
    "plt.scatter(data['green_space_coverage'], data[target], alpha=0.5)\n",
    "plt.xlabel('Green space coverage')\n",
    "plt.ylabel('Child Obesity Rate')\n",
    "plt.title('Green Space Coverage vs Child Obesity Rate')\n",
    "\n",
    "plt.tight_layout()\n",
    "#plt.savefig('obesity_analysis.png')\n",
    "plt.show()"
   ]
  },
  {
   "cell_type": "code",
   "execution_count": 82,
   "metadata": {},
   "outputs": [
    {
     "name": "stdout",
     "output_type": "stream",
     "text": [
      "Total runtime: 12.64 minutes\n",
      "\n"
     ]
    }
   ],
   "source": [
    "# 输出运行时间\n",
    "run_time = (time.time() - start_time) / 60\n",
    "print(f\"Total runtime: {run_time:.2f} minutes\\n\")"
   ]
  },
  {
   "cell_type": "markdown",
   "metadata": {},
   "source": [
    "## Conclusion\n",
    "\n",
    "[[ go back to the top ]](#Table-of-contents)"
   ]
  },
  {
   "cell_type": "code",
   "execution_count": null,
   "metadata": {},
   "outputs": [],
   "source": []
  },
  {
   "cell_type": "markdown",
   "metadata": {},
   "source": [
    "## References\n",
    "\n",
    "[[ go back to the top ]](#Table-of-contents)"
   ]
  },
  {
   "cell_type": "code",
   "execution_count": null,
   "metadata": {},
   "outputs": [],
   "source": []
  }
 ],
 "metadata": {
  "kernelspec": {
   "display_name": "Python (base)",
   "language": "python",
   "name": "base"
  },
  "language_info": {
   "codemirror_mode": {
    "name": "ipython",
    "version": 3
   },
   "file_extension": ".py",
   "mimetype": "text/x-python",
   "name": "python",
   "nbconvert_exporter": "python",
   "pygments_lexer": "ipython3",
   "version": "3.11.9"
  }
 },
 "nbformat": 4,
 "nbformat_minor": 4
}
